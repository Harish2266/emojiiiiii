{
 "cells": [
  {
   "cell_type": "code",
   "execution_count": null,
   "id": "2afcb003-504f-4278-8f24-326031927494",
   "metadata": {},
   "outputs": [],
   "source": []
  }
 ],
 "metadata": {
  "kernelspec": {
   "display_name": "",
   "name": ""
  },
  "language_info": {
   "name": ""
  }
 },
 "nbformat": 4,
 "nbformat_minor": 5
}
